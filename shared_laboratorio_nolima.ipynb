{
  "cells": [
    {
      "cell_type": "markdown",
      "metadata": {
        "id": "view-in-github",
        "colab_type": "text"
      },
      "source": [
        "<a href=\"https://colab.research.google.com/github/Deivst/nolima_test/blob/main/shared_laboratorio_nolima.ipynb\" target=\"_parent\"><img src=\"https://colab.research.google.com/assets/colab-badge.svg\" alt=\"Open In Colab\"/></a>"
      ]
    },
    {
      "cell_type": "markdown",
      "id": "4e3167b6",
      "metadata": {
        "id": "4e3167b6"
      },
      "source": [
        "\n",
        "# Laboratorio NOLIMA en Python: Evaluación de Modelos en Contextos Largos"
      ]
    },
    {
      "cell_type": "markdown",
      "id": "2c8eebb8",
      "metadata": {
        "id": "2c8eebb8"
      },
      "source": [
        "\n",
        "\n",
        "Este laboratorio reproduce parcialmente el benchmark NOLIMA para evaluar cómo los modelos de lenguaje (LLMs) responden preguntas en contextos largos sin coincidencia literal entre pregunta y respuesta.\n",
        "\n",
        "**Objetivo**: detectar si el modelo puede inferir la respuesta mediante razonamiento asociativo latente, en lugar de depender de coincidencias literales.\n"
      ]
    },
    {
      "cell_type": "code",
      "execution_count": null,
      "id": "82543fc9",
      "metadata": {
        "colab": {
          "base_uri": "https://localhost:8080/"
        },
        "id": "82543fc9",
        "outputId": "5836270f-4ea2-427e-89bd-3ec872686700"
      },
      "outputs": [
        {
          "output_type": "stream",
          "name": "stdout",
          "text": [
            "Requirement already satisfied: openai in /usr/local/lib/python3.11/dist-packages (1.76.2)\n",
            "Requirement already satisfied: anyio<5,>=3.5.0 in /usr/local/lib/python3.11/dist-packages (from openai) (4.9.0)\n",
            "Requirement already satisfied: distro<2,>=1.7.0 in /usr/local/lib/python3.11/dist-packages (from openai) (1.9.0)\n",
            "Requirement already satisfied: httpx<1,>=0.23.0 in /usr/local/lib/python3.11/dist-packages (from openai) (0.28.1)\n",
            "Requirement already satisfied: jiter<1,>=0.4.0 in /usr/local/lib/python3.11/dist-packages (from openai) (0.9.0)\n",
            "Requirement already satisfied: pydantic<3,>=1.9.0 in /usr/local/lib/python3.11/dist-packages (from openai) (2.11.4)\n",
            "Requirement already satisfied: sniffio in /usr/local/lib/python3.11/dist-packages (from openai) (1.3.1)\n",
            "Requirement already satisfied: tqdm>4 in /usr/local/lib/python3.11/dist-packages (from openai) (4.67.1)\n",
            "Requirement already satisfied: typing-extensions<5,>=4.11 in /usr/local/lib/python3.11/dist-packages (from openai) (4.13.2)\n",
            "Requirement already satisfied: idna>=2.8 in /usr/local/lib/python3.11/dist-packages (from anyio<5,>=3.5.0->openai) (3.10)\n",
            "Requirement already satisfied: certifi in /usr/local/lib/python3.11/dist-packages (from httpx<1,>=0.23.0->openai) (2025.4.26)\n",
            "Requirement already satisfied: httpcore==1.* in /usr/local/lib/python3.11/dist-packages (from httpx<1,>=0.23.0->openai) (1.0.9)\n",
            "Requirement already satisfied: h11>=0.16 in /usr/local/lib/python3.11/dist-packages (from httpcore==1.*->httpx<1,>=0.23.0->openai) (0.16.0)\n",
            "Requirement already satisfied: annotated-types>=0.6.0 in /usr/local/lib/python3.11/dist-packages (from pydantic<3,>=1.9.0->openai) (0.7.0)\n",
            "Requirement already satisfied: pydantic-core==2.33.2 in /usr/local/lib/python3.11/dist-packages (from pydantic<3,>=1.9.0->openai) (2.33.2)\n",
            "Requirement already satisfied: typing-inspection>=0.4.0 in /usr/local/lib/python3.11/dist-packages (from pydantic<3,>=1.9.0->openai) (0.4.0)\n"
          ]
        }
      ],
      "source": [
        "\n",
        "!pip install openai\n"
      ]
    },
    {
      "cell_type": "code",
      "execution_count": null,
      "id": "606eed1a",
      "metadata": {
        "id": "606eed1a"
      },
      "outputs": [],
      "source": [
        "# Paso 2: Configuración\n",
        "from openai import OpenAI\n",
        "import random\n",
        "import os"
      ]
    },
    {
      "cell_type": "markdown",
      "id": "99546cea",
      "metadata": {
        "id": "99546cea"
      },
      "source": [
        "## Configuración del contexto y pregunta"
      ]
    },
    {
      "cell_type": "code",
      "execution_count": null,
      "id": "b87ce14f",
      "metadata": {
        "id": "b87ce14f"
      },
      "outputs": [],
      "source": [
        "\n",
        "# Paso 2: Crear haystack con distractores y needle\n",
        "irrelevant_sentences = [\n",
        "    \"The sun rises in the east and sets in the west.\",\n",
        "    \"Bananas are a great source of potassium.\",\n",
        "    \"The Eiffel Tower is a famous landmark in Paris.\",\n",
        "    \"Photosynthesis is used by plants to convert sunlight into energy.\",\n",
        "    \"Mount Everest is the tallest mountain in the world.\"\n",
        "]\n",
        "\n",
        "needle = \"Actually, Yuki lives next to the Semper Opera House.\"\n",
        "distractor = \"Last summer, someone visited the city of Dresden for a concert.\"\n",
        "\n",
        "# Mezclamos contexto\n",
        "haystack = irrelevant_sentences * 10\n",
        "random.shuffle(haystack)\n",
        "\n",
        "\n",
        "# Insertamos distractor y needle en posiciones aleatorias\n",
        "insert_positions = random.sample(range(len(haystack)), 2)\n",
        "haystack.insert(insert_positions[0], distractor)\n",
        "haystack.insert(insert_positions[1], needle)\n",
        "\n",
        "# Unimos el contexto en un solo string\n",
        "full_context = \" \".join(haystack)\n",
        "\n",
        "# Paso 4: Pregunta sin coincidencia literal\n",
        "question = \"Which character has been to Dresden?\"\n"
      ]
    },
    {
      "cell_type": "markdown",
      "metadata": {
        "id": "48d164b7"
      },
      "source": [
        "### Credenciales OpenAI"
      ],
      "id": "48d164b7"
    },
    {
      "cell_type": "code",
      "execution_count": null,
      "id": "22f4a2b1",
      "metadata": {
        "id": "22f4a2b1"
      },
      "outputs": [],
      "source": [
        "# Coloca tu clave de API de OpenAI aquí\n",
        "clientOpenAI = OpenAI(api_key = \"\")"
      ]
    },
    {
      "cell_type": "markdown",
      "metadata": {
        "id": "7EqiWNLJVxOO"
      },
      "source": [
        "## Prueba con modelo de OpenAI (GPT-4)"
      ],
      "id": "7EqiWNLJVxOO"
    },
    {
      "cell_type": "code",
      "execution_count": null,
      "metadata": {
        "colab": {
          "base_uri": "https://localhost:8080/"
        },
        "outputId": "7436c542-9846-4ee2-96c7-caf9af7ec47e",
        "id": "_yd92iEeUyZC"
      },
      "outputs": [
        {
          "output_type": "stream",
          "name": "stdout",
          "text": [
            "Respuesta del modelo: The passage mentions that \"someone\" visited the city of Dresden, but does not specify a character by name.\n"
          ]
        }
      ],
      "source": [
        "response = clientOpenAI.chat.completions.create(\n",
        "    model=\"gpt-4\",  # o \"gpt-3.5-turbo\"\n",
        "    messages=[\n",
        "        {\"role\": \"system\", \"content\": \"You will be given a passage and a question. Answer based only on the passage.\"},\n",
        "        {\"role\": \"user\", \"content\": f\"Passage:\\n{full_context}\\n\\nQuestion: {question}\\n\\nAnswer:\"}\n",
        "    ],\n",
        "    temperature=0.0,\n",
        "    max_tokens=100\n",
        ")\n",
        "\n",
        "print(\"Respuesta del modelo:\", response.choices[0].message.content)\n"
      ],
      "id": "_yd92iEeUyZC"
    },
    {
      "cell_type": "markdown",
      "id": "5bacad99",
      "metadata": {
        "id": "5bacad99"
      },
      "source": [
        "## Experimentos sugeridos"
      ]
    },
    {
      "cell_type": "markdown",
      "id": "094398d7",
      "metadata": {
        "id": "094398d7"
      },
      "source": [
        "\n",
        "- Probar con preguntas literales para comparar.\n",
        "- Insertar frases distractoras en el contexto.\n",
        "- Cambiar la longitud del contexto y observar el rendimiento.\n",
        "- Usar modelos alternativos de HuggingFace.\n"
      ]
    }
  ],
  "metadata": {
    "colab": {
      "provenance": [],
      "include_colab_link": true
    },
    "language_info": {
      "name": "python"
    },
    "kernelspec": {
      "name": "python3",
      "display_name": "Python 3"
    }
  },
  "nbformat": 4,
  "nbformat_minor": 5
}